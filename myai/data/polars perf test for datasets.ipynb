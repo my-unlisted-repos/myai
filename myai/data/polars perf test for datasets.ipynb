{
 "cells": [
  {
   "cell_type": "code",
   "execution_count": null,
   "metadata": {},
   "outputs": [],
   "source": [
    "from glio.imports import *\n",
    "import polars as pl\n",
    "import numpy as np\n",
    "import torch\n",
    "\n",
    "class Sample:\n",
    "    def __init__(self, x): self.x = x\n",
    "    def __call__(self): return self.x\n",
    "\n",
    "dsx = np.random.uniform(-1, 1, (100000,3,64,64))\n",
    "dsy = np.random.randint(0, 10, (100000,))"
   ]
  },
  {
   "cell_type": "code",
   "execution_count": 2,
   "metadata": {},
   "outputs": [],
   "source": [
    "objects = [Sample(i) for i in dsx]"
   ]
  },
  {
   "cell_type": "code",
   "execution_count": 4,
   "metadata": {},
   "outputs": [],
   "source": [
    "def loader(x): return x()\n",
    "def transform(x): return x\n",
    "\n",
    "df = pl.DataFrame({\"samples\": objects, \"targets\": dsy, \"loader\": [loader]*100000, \"transform\": [transform]*100000})"
   ]
  },
  {
   "cell_type": "code",
   "execution_count": 5,
   "metadata": {},
   "outputs": [
    {
     "data": {
      "text/html": [
       "<div><style>\n",
       ".dataframe > thead > tr,\n",
       ".dataframe > tbody > tr {\n",
       "  text-align: right;\n",
       "  white-space: pre-wrap;\n",
       "}\n",
       "</style>\n",
       "<small>shape: (100_000, 4)</small><table border=\"1\" class=\"dataframe\"><thead><tr><th>samples</th><th>targets</th><th>loader</th><th>transform</th></tr><tr><td>object</td><td>i32</td><td>object</td><td>object</td></tr></thead><tbody><tr><td>&lt;__main__.Sample object at 0x0000016E6B5DE0F0&gt;</td><td>6</td><td>&lt;function loader at 0x0000016E09156160&gt;</td><td>&lt;function transform at 0x0000016E09154D60&gt;</td></tr><tr><td>&lt;__main__.Sample object at 0x0000016E6B5DCB00&gt;</td><td>3</td><td>&lt;function loader at 0x0000016E09156160&gt;</td><td>&lt;function transform at 0x0000016E09154D60&gt;</td></tr><tr><td>&lt;__main__.Sample object at 0x0000016E6BF0E000&gt;</td><td>1</td><td>&lt;function loader at 0x0000016E09156160&gt;</td><td>&lt;function transform at 0x0000016E09154D60&gt;</td></tr><tr><td>&lt;__main__.Sample object at 0x0000016E6BF0E060&gt;</td><td>6</td><td>&lt;function loader at 0x0000016E09156160&gt;</td><td>&lt;function transform at 0x0000016E09154D60&gt;</td></tr><tr><td>&lt;__main__.Sample object at 0x0000016E08A0CC80&gt;</td><td>0</td><td>&lt;function loader at 0x0000016E09156160&gt;</td><td>&lt;function transform at 0x0000016E09154D60&gt;</td></tr><tr><td>&hellip;</td><td>&hellip;</td><td>&hellip;</td><td>&hellip;</td></tr><tr><td>&lt;__main__.Sample object at 0x0000016E0B1F6780&gt;</td><td>4</td><td>&lt;function loader at 0x0000016E09156160&gt;</td><td>&lt;function transform at 0x0000016E09154D60&gt;</td></tr><tr><td>&lt;__main__.Sample object at 0x0000016E0B1F67B0&gt;</td><td>8</td><td>&lt;function loader at 0x0000016E09156160&gt;</td><td>&lt;function transform at 0x0000016E09154D60&gt;</td></tr><tr><td>&lt;__main__.Sample object at 0x0000016E0B1F67E0&gt;</td><td>8</td><td>&lt;function loader at 0x0000016E09156160&gt;</td><td>&lt;function transform at 0x0000016E09154D60&gt;</td></tr><tr><td>&lt;__main__.Sample object at 0x0000016E0B1F6810&gt;</td><td>7</td><td>&lt;function loader at 0x0000016E09156160&gt;</td><td>&lt;function transform at 0x0000016E09154D60&gt;</td></tr><tr><td>&lt;__main__.Sample object at 0x0000016E0B1F6840&gt;</td><td>4</td><td>&lt;function loader at 0x0000016E09156160&gt;</td><td>&lt;function transform at 0x0000016E09154D60&gt;</td></tr></tbody></table></div>"
      ],
      "text/plain": [
       "shape: (100_000, 4)\n",
       "┌─────────────────────────────────┬─────────┬─────────────────────┬────────────────────────┐\n",
       "│ samples                         ┆ targets ┆ loader              ┆ transform              │\n",
       "│ ---                             ┆ ---     ┆ ---                 ┆ ---                    │\n",
       "│ object                          ┆ i32     ┆ object              ┆ object                 │\n",
       "╞═════════════════════════════════╪═════════╪═════════════════════╪════════════════════════╡\n",
       "│ <__main__.Sample object at 0x0… ┆ 6       ┆ <function loader at ┆ <function transform at │\n",
       "│                                 ┆         ┆ 0x0000016E…         ┆ 0x00000…               │\n",
       "│ <__main__.Sample object at 0x0… ┆ 3       ┆ <function loader at ┆ <function transform at │\n",
       "│                                 ┆         ┆ 0x0000016E…         ┆ 0x00000…               │\n",
       "│ <__main__.Sample object at 0x0… ┆ 1       ┆ <function loader at ┆ <function transform at │\n",
       "│                                 ┆         ┆ 0x0000016E…         ┆ 0x00000…               │\n",
       "│ <__main__.Sample object at 0x0… ┆ 6       ┆ <function loader at ┆ <function transform at │\n",
       "│                                 ┆         ┆ 0x0000016E…         ┆ 0x00000…               │\n",
       "│ <__main__.Sample object at 0x0… ┆ 0       ┆ <function loader at ┆ <function transform at │\n",
       "│                                 ┆         ┆ 0x0000016E…         ┆ 0x00000…               │\n",
       "│ …                               ┆ …       ┆ …                   ┆ …                      │\n",
       "│ <__main__.Sample object at 0x0… ┆ 4       ┆ <function loader at ┆ <function transform at │\n",
       "│                                 ┆         ┆ 0x0000016E…         ┆ 0x00000…               │\n",
       "│ <__main__.Sample object at 0x0… ┆ 8       ┆ <function loader at ┆ <function transform at │\n",
       "│                                 ┆         ┆ 0x0000016E…         ┆ 0x00000…               │\n",
       "│ <__main__.Sample object at 0x0… ┆ 8       ┆ <function loader at ┆ <function transform at │\n",
       "│                                 ┆         ┆ 0x0000016E…         ┆ 0x00000…               │\n",
       "│ <__main__.Sample object at 0x0… ┆ 7       ┆ <function loader at ┆ <function transform at │\n",
       "│                                 ┆         ┆ 0x0000016E…         ┆ 0x00000…               │\n",
       "│ <__main__.Sample object at 0x0… ┆ 4       ┆ <function loader at ┆ <function transform at │\n",
       "│                                 ┆         ┆ 0x0000016E…         ┆ 0x00000…               │\n",
       "└─────────────────────────────────┴─────────┴─────────────────────┴────────────────────────┘"
      ]
     },
     "execution_count": 5,
     "metadata": {},
     "output_type": "execute_result"
    }
   ],
   "source": [
    "df"
   ]
  },
  {
   "cell_type": "code",
   "execution_count": 12,
   "metadata": {},
   "outputs": [
    {
     "name": "stdout",
     "output_type": "stream",
     "text": [
      "Context took 0.4255618000170216 perf_counter seconds\n"
     ]
    }
   ],
   "source": [
    "with perf_counter_context():\n",
    "    for _ in range(100_000):\n",
    "        df[50_000]"
   ]
  }
 ],
 "metadata": {
  "kernelspec": {
   "display_name": "pytorch312",
   "language": "python",
   "name": "python3"
  },
  "language_info": {
   "codemirror_mode": {
    "name": "ipython",
    "version": 3
   },
   "file_extension": ".py",
   "mimetype": "text/x-python",
   "name": "python",
   "nbconvert_exporter": "python",
   "pygments_lexer": "ipython3",
   "version": "3.12.3"
  }
 },
 "nbformat": 4,
 "nbformat_minor": 2
}
