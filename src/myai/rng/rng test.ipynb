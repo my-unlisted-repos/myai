{
 "cells": [
  {
   "cell_type": "code",
   "execution_count": null,
   "metadata": {},
   "outputs": [],
   "source": [
    "from typing import Optional\n",
    "import random\n",
    "import numpy as np\n",
    "import torch\n",
    "class RNG:\n",
    "    def __init__(self, seed: Optional[int]):\n",
    "        self.seed = seed\n",
    "        self.random = random.Random(seed)\n",
    "        self.numpy = np.random.default_rng(seed)\n",
    "\n",
    "        if seed is not None: self.torch = torch.Generator().manual_seed(seed)\n",
    "        else: self.torch = None\n",
    "\n",
    "    def copy(self):\n",
    "        return RNG(self.seed)"
   ]
  },
  {
   "cell_type": "code",
   "execution_count": 44,
   "metadata": {},
   "outputs": [
    {
     "data": {
      "text/plain": [
       "tensor([ 0.6585,  1.9593, -0.3555, -0.4396, -0.0730,  0.9426, -0.0186,  1.0727,\n",
       "         0.2529, -0.3098])"
      ]
     },
     "execution_count": 44,
     "metadata": {},
     "output_type": "execute_result"
    }
   ],
   "source": [
    "rng = RNG(None)\n",
    "\n",
    "torch.randn(10, generator=rng.torch)"
   ]
  },
  {
   "cell_type": "code",
   "execution_count": 27,
   "metadata": {},
   "outputs": [
    {
     "data": {
      "text/plain": [
       "tensor([ 0.2659, -0.2674,  0.2713, -1.0842,  0.4125, -0.8258,  1.0280, -0.7633,\n",
       "         0.1195, -1.0167])"
      ]
     },
     "execution_count": 27,
     "metadata": {},
     "output_type": "execute_result"
    }
   ],
   "source": [
    "torch.randn(10, generator=rng.torch)"
   ]
  }
 ],
 "metadata": {
  "kernelspec": {
   "display_name": "pytorch312",
   "language": "python",
   "name": "python3"
  },
  "language_info": {
   "codemirror_mode": {
    "name": "ipython",
    "version": 3
   },
   "file_extension": ".py",
   "mimetype": "text/x-python",
   "name": "python",
   "nbconvert_exporter": "python",
   "pygments_lexer": "ipython3",
   "version": "3.12.3"
  }
 },
 "nbformat": 4,
 "nbformat_minor": 2
}
