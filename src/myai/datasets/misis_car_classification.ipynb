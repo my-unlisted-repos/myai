{
 "cells": [
  {
   "cell_type": "code",
   "execution_count": 1,
   "metadata": {},
   "outputs": [],
   "source": [
    "from myai.imports import *\n",
    "from myai.torch_tools import pad_to_shape"
   ]
  },
  {
   "cell_type": "code",
   "execution_count": 2,
   "metadata": {},
   "outputs": [
    {
     "data": {
      "text/plain": [
       "[['100155.jpg', '0'],\n",
       " ['100306.jpg', '0'],\n",
       " ['100379.jpg', '0'],\n",
       " ['100380.jpg', '0'],\n",
       " ['100389.jpg', '0'],\n",
       " ['10102.jpg', '0'],\n",
       " ['101036.jpg', '0'],\n",
       " ['101085.jpg', '0'],\n",
       " ['101387.jpg', '0'],\n",
       " ['101494.jpg', '0']]"
      ]
     },
     "execution_count": 2,
     "metadata": {},
     "output_type": "execute_result"
    }
   ],
   "source": [
    "with open(r\"E:\\datasets\\MDS-MISIS-DL Car classification\\train.csv\", 'r') as f:\n",
    "    items = list(csv.reader(f))[1:]\n",
    "\n",
    "items[:10]"
   ]
  },
  {
   "cell_type": "code",
   "execution_count": 3,
   "metadata": {},
   "outputs": [],
   "source": [
    "_resize = v2.Resize((240, 320), antialias=False)\n",
    "def _preprocess(x):\n",
    "    if x.shape[0] == 1: x = torch.cat([x,x,x])\n",
    "    return _resize(pad_to_shape(x,(3, 480, 640)),)\n",
    "\n",
    "    # have to use float16 and resize by 50% to make it fit into memory\n",
    "ds = [(\n",
    "    _preprocess(\n",
    "        imreadtensor(\n",
    "            os.path.join(r\"E:\\datasets\\MDS-MISIS-DL Car classification\\train\", f\"{i[1]}\", f\"{i[0]}\"),\n",
    "            dtype=torch.float16),\n",
    "        ),\n",
    "    int(i[1])\n",
    ") for i in items]\n"
   ]
  },
  {
   "cell_type": "code",
   "execution_count": 4,
   "metadata": {},
   "outputs": [
    {
     "name": "stdout",
     "output_type": "stream",
     "text": [
      "torch.Size([15561, 3, 240, 320]) torch.Size([15561])\n",
      "mean = tensor([[[[107.6875]],\n",
      "\n",
      "         [[108.5625]],\n",
      "\n",
      "         [[110.3750]]]], dtype=torch.float16)\n",
      "std = tensor([[[[74.8125]],\n",
      "\n",
      "         [[75.3750]],\n",
      "\n",
      "         [[76.9375]]]], dtype=torch.float16)\n",
      "images.mean() = tensor(0.0002, dtype=torch.float16)\n",
      "images.std() = tensor(1., dtype=torch.float16)\n"
     ]
    }
   ],
   "source": [
    "images = torch.stack([i[0] for i in ds])\n",
    "labels = torch.tensor([i[1] for i in ds], dtype=torch.float32)\n",
    "print(images.shape, labels.shape)\n",
    "\n",
    "mean = images.mean((0, 2,3), keepdim=True)\n",
    "std = images.std((0, 2,3), keepdim=True)\n",
    "\n",
    "print(f'{mean = }')\n",
    "print(f'{std = }')\n",
    "\n",
    "images -= mean\n",
    "images /= std\n",
    "\n",
    "print(f'{images.mean() = }')\n",
    "print(f'{images.std() = }')"
   ]
  },
  {
   "cell_type": "code",
   "execution_count": 5,
   "metadata": {},
   "outputs": [
    {
     "name": "stdout",
     "output_type": "stream",
     "text": [
      "Context took 618.7065146998502 perf_counter seconds\n"
     ]
    }
   ],
   "source": [
    "with perf_counter_context():\n",
    "    np.savez_compressed(r'E:\\datasets\\MDS-MISIS-DL Car classification\\train 240x320.npz', images=images, labels = labels)"
   ]
  },
  {
   "cell_type": "code",
   "execution_count": 2,
   "metadata": {},
   "outputs": [
    {
     "data": {
      "text/plain": [
       "tensor(2.)"
      ]
     },
     "execution_count": 2,
     "metadata": {},
     "output_type": "execute_result"
    }
   ],
   "source": [
    "import torch\n",
    "torch.tensor([1., 2., 3.,])[..., 1]"
   ]
  }
 ],
 "metadata": {
  "kernelspec": {
   "display_name": "pytorch312",
   "language": "python",
   "name": "python3"
  },
  "language_info": {
   "codemirror_mode": {
    "name": "ipython",
    "version": 3
   },
   "file_extension": ".py",
   "mimetype": "text/x-python",
   "name": "python",
   "nbconvert_exporter": "python",
   "pygments_lexer": "ipython3",
   "version": "3.12.3"
  }
 },
 "nbformat": 4,
 "nbformat_minor": 2
}
