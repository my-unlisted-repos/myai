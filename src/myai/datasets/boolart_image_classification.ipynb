{
 "cells": [
  {
   "cell_type": "code",
   "execution_count": 1,
   "metadata": {},
   "outputs": [],
   "source": [
    "from myai.imports import *\n",
    "from myai.torch_tools import pad_to_shape"
   ]
  },
  {
   "cell_type": "code",
   "execution_count": 2,
   "metadata": {},
   "outputs": [
    {
     "data": {
      "text/plain": [
       "[['15970', '0'],\n",
       " ['59263', '4'],\n",
       " ['21379', '3'],\n",
       " ['1855', '0'],\n",
       " ['30805', '0'],\n",
       " ['29114', '13'],\n",
       " ['30039', '4'],\n",
       " ['9204', '1'],\n",
       " ['48123', '12'],\n",
       " ['18653', '11']]"
      ]
     },
     "execution_count": 2,
     "metadata": {},
     "output_type": "execute_result"
    }
   ],
   "source": [
    "with open(r\"E:\\datasets\\BoolArt-Image-Classification\\train.csv\", 'r') as f:\n",
    "    items = list(csv.reader(f))[1:]\n",
    "\n",
    "items[:10]"
   ]
  },
  {
   "cell_type": "code",
   "execution_count": 6,
   "metadata": {},
   "outputs": [],
   "source": [
    "def _preprocess(x):\n",
    "    # images are different shape, and sometimes only one channel\n",
    "    if x.shape[0] == 1: x = torch.cat((x,x,x))\n",
    "    return pad_to_shape(x, (3, 80, 60), mode = 'min')\n"
   ]
  },
  {
   "cell_type": "code",
   "execution_count": 4,
   "metadata": {},
   "outputs": [],
   "source": [
    "ds = [(imreadtensor(os.path.join(r\"E:\\datasets\\BoolArt-Image-Classification\\train_image\", f'{i[0]}.jpg')), i[1]) for i in items]\n"
   ]
  },
  {
   "cell_type": "code",
   "execution_count": 7,
   "metadata": {},
   "outputs": [
    {
     "name": "stdout",
     "output_type": "stream",
     "text": [
      "torch.Size([35551, 3, 80, 60]) torch.Size([35551])\n",
      "mean = tensor([[[[217.7353]],\n",
      "\n",
      "         [[213.3106]],\n",
      "\n",
      "         [[211.7530]]]])\n",
      "std = tensor([[[[68.3273]],\n",
      "\n",
      "         [[71.5364]],\n",
      "\n",
      "         [[72.6093]]]])\n",
      "images.mean() = tensor(9.4910e-07)\n",
      "images.std() = tensor(1.)\n"
     ]
    }
   ],
   "source": [
    "images = torch.stack([_preprocess(i[0]) for i in ds]).to(torch.float32)\n",
    "labels = torch.tensor([float(i[1]) for i in ds], dtype=torch.float32)\n",
    "print(images.shape, labels.shape)\n",
    "\n",
    "mean = images.mean((0, 2,3), keepdim=True)\n",
    "std = images.std((0, 2,3), keepdim=True)\n",
    "\n",
    "print(f'{mean = }')\n",
    "print(f'{std = }')\n",
    "\n",
    "images -= mean\n",
    "images /= std\n",
    "\n",
    "print(f'{images.mean() = }')\n",
    "print(f'{images.std() = }')"
   ]
  },
  {
   "cell_type": "code",
   "execution_count": 8,
   "metadata": {},
   "outputs": [
    {
     "name": "stdout",
     "output_type": "stream",
     "text": [
      "Context took 89.25152639998123 perf_counter seconds\n"
     ]
    }
   ],
   "source": [
    "with perf_counter_context():\n",
    "    np.savez_compressed(r'E:\\datasets\\BoolArt-Image-Classification\\train.npz', images=images, labels = labels)"
   ]
  }
 ],
 "metadata": {
  "kernelspec": {
   "display_name": "pytorch312",
   "language": "python",
   "name": "python3"
  },
  "language_info": {
   "codemirror_mode": {
    "name": "ipython",
    "version": 3
   },
   "file_extension": ".py",
   "mimetype": "text/x-python",
   "name": "python",
   "nbconvert_exporter": "python",
   "pygments_lexer": "ipython3",
   "version": "3.12.3"
  }
 },
 "nbformat": 4,
 "nbformat_minor": 2
}
