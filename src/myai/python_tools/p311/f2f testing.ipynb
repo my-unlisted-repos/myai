{
 "cells": [
  {
   "cell_type": "code",
   "execution_count": null,
   "metadata": {},
   "outputs": [],
   "source": [
    "import typing as T\n",
    "\n",
    "def func2func[**P, R](wrapper: T.Callable[P, R]):\n",
    "    \"\"\"Copies the signature from one function to another. Works with VSCode autocomplete.\"\"\"\n",
    "\n",
    "    def decorator(func: T.Callable) -> T.Callable[P, R]:\n",
    "        func.__doc__ = wrapper.__doc__\n",
    "        return func\n",
    "\n",
    "    return decorator\n",
    "\n",
    "def func2method[**P, R, T1](wrapper: T.Callable[P, R], type: T.Type[T1] | T.Any = T.Any):\n",
    "    \"\"\"Copies the signature a function to a method. Works with VSCode autocomplete.\"\"\"\n",
    "\n",
    "    def decorator(func: T.Callable) -> T.Callable[T.Concatenate[T1, P], R]:\n",
    "        func.__doc__ = wrapper.__doc__\n",
    "        return func\n",
    "\n",
    "    return decorator\n",
    "\n",
    "def method2method[**P, R](wrapper: T.Callable[T.Concatenate[T.Any, P], R]):\n",
    "    \"\"\"Copies the signature from a method to a method. Works with VSCode autocomplete.\"\"\"\n",
    "\n",
    "    def decorator(func: T.Callable[T.Concatenate[T.Any, T.Any, P], R]) -> T.Callable[T.Concatenate[T.Any, P], R]:\n",
    "        func.__doc__ = wrapper.__doc__\n",
    "        return func # type:ignore\n",
    "\n",
    "    return decorator\n",
    "\n",
    "def method2func[**P, R](wrapper: T.Callable[T.Concatenate[T.Any, P], R]):\n",
    "    \"\"\"Copies the signature from a method to a function. Works with VSCode autocomplete.\"\"\"\n",
    "\n",
    "    def decorator(func: T.Callable[T.Concatenate[T.Any, P], R]) -> T.Callable[P, R]:\n",
    "        func.__doc__ = wrapper.__doc__\n",
    "        return func # type:ignore\n",
    "\n",
    "    return decorator\n"
   ]
  },
  {
   "cell_type": "code",
   "execution_count": null,
   "metadata": {},
   "outputs": [],
   "source": [
    "def func(x: str, y: T.Any = 99, z: float = 4) -> str:\n",
    "    \"\"\"I have a docstring and arguments\"\"\"\n",
    "    return str(x + str(y * z))\n",
    "\n",
    "\n",
    "class Class:\n",
    "    def __init__(self, x):\n",
    "        self.x = x\n",
    "        self.xd(x1 = 1, x2 = [])\n",
    "        self.xp('a')\n",
    "\n",
    "    @func2method(func)\n",
    "    def ababa(self, *args, **kwargs):\n",
    "        return func(*args, **kwargs)\n",
    "\n",
    "    def bebeb(self, x1, x2: list): pass\n",
    "\n",
    "    @method2method(bebeb)\n",
    "    def xd(self, *args, **kwargs): ...\n",
    "\n",
    "    @func2func(ababa)\n",
    "    def xp(self, *args, **kwargs): ...\n",
    "\n",
    "@method2func(Class.bebeb)\n",
    "def big_chingus(*args, **kwargs): ...\n",
    "\n",
    "big_chingus(x1 = 2, x2 = [])\n",
    "\n",
    "class Class2:\n",
    "    @method2method(Class.bebeb)\n",
    "    def bebeb2(self, *args, **kwargs): ...\n",
    "\n",
    "    def n(self):\n",
    "        self.bebeb2()"
   ]
  },
  {
   "cell_type": "code",
   "execution_count": null,
   "metadata": {},
   "outputs": [],
   "source": [
    "def func[**P1, **P2, R](func1: T.Callable[P1, R], func2: T.Callable[P2, None]) -> T.Callable[T.Concatenate[P1, P2], R]: ...\n",
    "\n",
    "def a(x): ...\n",
    "def b(y): ...\n",
    "\n",
    "l = func(a, b)\n",
    "l(1, 2)"
   ]
  }
 ],
 "metadata": {
  "kernelspec": {
   "display_name": "pytorch312",
   "language": "python",
   "name": "python3"
  },
  "language_info": {
   "name": "python",
   "version": "3.12.3"
  }
 },
 "nbformat": 4,
 "nbformat_minor": 2
}
