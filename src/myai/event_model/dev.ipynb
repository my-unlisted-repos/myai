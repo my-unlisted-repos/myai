{
 "cells": [
  {
   "cell_type": "code",
   "execution_count": 18,
   "metadata": {},
   "outputs": [],
   "source": [
    "import inspect\n",
    "from glio.python_tools import perf_counter_context\n",
    "from functools import partialmethod"
   ]
  },
  {
   "cell_type": "code",
   "execution_count": 33,
   "metadata": {},
   "outputs": [
    {
     "data": {
      "text/plain": [
       "[('__call__',\n",
       "  <bound method BigChungus.__call__ of <__main__.BigChungus object at 0x000001EFB825F2F0>>),\n",
       " ('__init__',\n",
       "  <bound method BigChungus.__init__ of <__main__.BigChungus object at 0x000001EFB825F2F0>>),\n",
       " ('eat',\n",
       "  <bound method BigChungus.eat of <__main__.BigChungus object at 0x000001EFB825F2F0>>),\n",
       " ('gg',\n",
       "  <bound method BigChungus.<lambda> of <__main__.BigChungus object at 0x000001EFB825F2F0>>)]"
      ]
     },
     "execution_count": 33,
     "metadata": {},
     "output_type": "execute_result"
    }
   ],
   "source": [
    "class BigChungus:\n",
    "    gg = lambda x: x**2\n",
    "    def __init__(self, name, fn):\n",
    "        self.name = name\n",
    "        self.fn = fn\n",
    "    def __call__(self, *args, **kwargs):\n",
    "        print(f\"Calling {self.name} with {args} and {kwargs}\")\n",
    "        return self\n",
    "    def eat(self, item):\n",
    "        print(f\"Eating {item}\")\n",
    "    eatman = partialmethod(eat, item=\"man\")\n",
    "\n",
    "\n",
    "big_chingus = BigChungus('chungus', lambda x: 2 * x)\n",
    "\n",
    "inspect.getmembers(big_chingus, predicate=inspect.ismethod)"
   ]
  },
  {
   "cell_type": "code",
   "execution_count": 20,
   "metadata": {},
   "outputs": [
    {
     "data": {
      "text/plain": [
       "['eat', 'eatman', 'fn', 'gg']"
      ]
     },
     "execution_count": 20,
     "metadata": {},
     "output_type": "execute_result"
    }
   ],
   "source": [
    "[method_name for method_name in dir(big_chingus)\n",
    "                  if (not method_name.startswith('_')) and callable(getattr(big_chingus, method_name))]"
   ]
  },
  {
   "cell_type": "code",
   "execution_count": 52,
   "metadata": {},
   "outputs": [
    {
     "name": "stdout",
     "output_type": "stream",
     "text": [
      "Context took 0.3449123000027612 perf_counter seconds\n"
     ]
    }
   ],
   "source": [
    "with perf_counter_context():\n",
    "    for i in range(10000):\n",
    "        methods = {attr: getattr(big_chingus, attr) for attr in dir(big_chingus) if not attr.startswith('_')}\n",
    "        methods = {k: v for k, v in methods.items() if inspect.ismethod(v)}\n"
   ]
  },
  {
   "cell_type": "code",
   "execution_count": 53,
   "metadata": {},
   "outputs": [
    {
     "data": {
      "text/plain": [
       "{'eat': <bound method BigChungus.eat of <__main__.BigChungus object at 0x000001EFB825F2F0>>,\n",
       " 'gg': <bound method BigChungus.<lambda> of <__main__.BigChungus object at 0x000001EFB825F2F0>>}"
      ]
     },
     "execution_count": 53,
     "metadata": {},
     "output_type": "execute_result"
    }
   ],
   "source": [
    "methods = {attr: getattr(big_chingus, attr) for attr in dir(big_chingus) if not attr.startswith('_')}\n",
    "methods = {k: v for k, v in methods.items() if inspect.ismethod(v)}\n",
    "methods"
   ]
  },
  {
   "cell_type": "code",
   "execution_count": 59,
   "metadata": {},
   "outputs": [],
   "source": [
    "class Bag:\n",
    "    sus = []\n",
    "    bus = []\n",
    "    def __init__(self, name, sus, bus): \n",
    "        self.name = name\n",
    "        self.sus = sus\n",
    "        self.bus = bus\n",
    "    def __eq__(self, other):\n",
    "        return self.sus is other.sus and self.bus is other.bus"
   ]
  },
  {
   "cell_type": "code",
   "execution_count": 61,
   "metadata": {},
   "outputs": [
    {
     "data": {
      "text/plain": [
       "False"
      ]
     },
     "execution_count": 61,
     "metadata": {},
     "output_type": "execute_result"
    }
   ],
   "source": [
    "b1 = Bag(1, ['a'], ['b'])\n",
    "b2 = Bag(2, b1.sus, b1.bus)\n",
    "b3 = Bag(3, b1.sus, ['c'])\n",
    "\n",
    "b1 == b2"
   ]
  },
  {
   "cell_type": "code",
   "execution_count": 62,
   "metadata": {},
   "outputs": [
    {
     "data": {
      "text/plain": [
       "[<__main__.Bag at 0x1efb7faeed0>,\n",
       " <__main__.Bag at 0x1efb7fad0d0>,\n",
       " <__main__.Bag at 0x1efb7fae690>]"
      ]
     },
     "execution_count": 62,
     "metadata": {},
     "output_type": "execute_result"
    }
   ],
   "source": [
    "l = [b1, b2, b3]\n",
    "l"
   ]
  },
  {
   "cell_type": "code",
   "execution_count": 65,
   "metadata": {},
   "outputs": [
    {
     "ename": "ValueError",
     "evalue": "list.remove(x): x not in list",
     "output_type": "error",
     "traceback": [
      "\u001b[1;31m---------------------------------------------------------------------------\u001b[0m",
      "\u001b[1;31mValueError\u001b[0m                                Traceback (most recent call last)",
      "Cell \u001b[1;32mIn[65], line 1\u001b[0m\n\u001b[1;32m----> 1\u001b[0m l\u001b[38;5;241m.\u001b[39mremove(b1)\n\u001b[0;32m      2\u001b[0m l\n",
      "\u001b[1;31mValueError\u001b[0m: list.remove(x): x not in list"
     ]
    }
   ],
   "source": [
    "l.remove(b1)\n",
    "l"
   ]
  },
  {
   "cell_type": "code",
   "execution_count": 71,
   "metadata": {},
   "outputs": [
    {
     "name": "stdout",
     "output_type": "stream",
     "text": [
      "0\n",
      "1\n",
      "2\n",
      "3\n",
      "done\n"
     ]
    }
   ],
   "source": [
    "from contextlib import contextmanager\n",
    "class CancelContext(Exception): pass\n",
    "class Class:\n",
    "    @contextmanager\n",
    "    def context(self, name: str):\n",
    "        try: yield\n",
    "        except CancelContext as e:\n",
    "            if str(e) != name: raise e\n",
    "\n",
    "\n",
    "\n",
    "c = Class()\n",
    "\n",
    "with c.context('banana'):\n",
    "    for i in range(10):\n",
    "        print(i)\n",
    "        if i == 3: raise CancelContext('banana')\n",
    "    print('done?')\n",
    "print('done')"
   ]
  }
 ],
 "metadata": {
  "kernelspec": {
   "display_name": "pytorch312",
   "language": "python",
   "name": "python3"
  },
  "language_info": {
   "codemirror_mode": {
    "name": "ipython",
    "version": 3
   },
   "file_extension": ".py",
   "mimetype": "text/x-python",
   "name": "python",
   "nbconvert_exporter": "python",
   "pygments_lexer": "ipython3",
   "version": "3.12.3"
  }
 },
 "nbformat": 4,
 "nbformat_minor": 2
}
